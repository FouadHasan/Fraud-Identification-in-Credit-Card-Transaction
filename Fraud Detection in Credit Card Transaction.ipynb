{
 "cells": [
  {
   "cell_type": "code",
   "execution_count": 1,
   "metadata": {},
   "outputs": [],
   "source": [
    "import numpy as np\n",
    "import pandas as pd\n",
    "import matplotlib.pyplot as plt\n",
    "\n",
    "import tensorflow as tf\n",
    "from tensorflow.keras.models import Sequential\n",
    "from tensorflow.keras.layers import Dense \n",
    "from tensorflow.keras.optimizers import Adam"
   ]
  },
  {
   "cell_type": "code",
   "execution_count": 2,
   "metadata": {},
   "outputs": [
    {
     "name": "stderr",
     "output_type": "stream",
     "text": [
      "C:\\Users\\fhasan1\\Anaconda3\\envs\\tf\\lib\\site-packages\\IPython\\core\\interactiveshell.py:3146: DtypeWarning: Columns (0,1,2,3,4,5,6,7,8,9,10,11,12,13,14,15,16,17,18,19,20,21,22,23,24,25,26,27,28,29,30) have mixed types.Specify dtype option on import or set low_memory=False.\n",
      "  interactivity=interactivity, compiler=compiler, result=result)\n"
     ]
    },
    {
     "name": "stdout",
     "output_type": "stream",
     "text": [
      "(284808, 31)\n",
      "(284807, 31)\n"
     ]
    }
   ],
   "source": [
    "# Get the original dataset from https://www.kaggle.com/mlg-ulb/creditcardfraud/\n",
    "creditdata=pd.read_csv(r'C:\\Users\\fhasan1\\creditcard.csv', header=None)  \n",
    "print(creditdata.shape)\n",
    "creditdata=np.array(creditdata)\n",
    "creditdata=np.delete(creditdata,0,0) # removing the header\n",
    "print(creditdata.shape)"
   ]
  },
  {
   "cell_type": "code",
   "execution_count": 3,
   "metadata": {},
   "outputs": [
    {
     "name": "stdout",
     "output_type": "stream",
     "text": [
      "(284807, 30)\n",
      "(284807, 1)\n"
     ]
    }
   ],
   "source": [
    "# input feature and target \n",
    "inputData=creditdata[0:,0:30]\n",
    "target=creditdata[0:,30:]\n",
    "\n",
    "print(inputData.shape)\n",
    "print(target.shape)"
   ]
  },
  {
   "cell_type": "code",
   "execution_count": 4,
   "metadata": {},
   "outputs": [
    {
     "name": "stdout",
     "output_type": "stream",
     "text": [
      "284315\n",
      "492\n"
     ]
    }
   ],
   "source": [
    "inputData = np.array(inputData, dtype=\"float32\")\n",
    "target = np.array(target, dtype=\"float32\")\n",
    "\n",
    "#counting the number of true and false transaction\n",
    "zero_occurrences = np.count_nonzero(target == 0)\n",
    "one_occurrences = np.count_nonzero(target == 1)\n",
    "\n",
    "print(zero_occurrences)\n",
    "print(one_occurrences)"
   ]
  },
  {
   "cell_type": "code",
   "execution_count": 5,
   "metadata": {},
   "outputs": [
    {
     "name": "stdout",
     "output_type": "stream",
     "text": [
      "Number of false transation (positive sample) in training data: 492 (0.17% of total)\n"
     ]
    }
   ],
   "source": [
    "# Annalysing the imbalanced in dataset\n",
    "print(\"Number of false transation (positive sample) in training data: {} ({:.2f}% of total)\".format(one_occurrences, 100 * float(one_occurrences) / len(target)))\n",
    "\n",
    "weight_0 = 1.0 / zero_occurrences\n",
    "weight_1 = 1.0 / one_occurrences"
   ]
  },
  {
   "cell_type": "code",
   "execution_count": 6,
   "metadata": {},
   "outputs": [
    {
     "name": "stdout",
     "output_type": "stream",
     "text": [
      "(227845, 30)\n",
      "(227845, 1)\n",
      "(56962, 30)\n",
      "(56962, 1)\n"
     ]
    }
   ],
   "source": [
    "# training and test \n",
    "from sklearn.model_selection import train_test_split\n",
    "x_train,x_test,y_train,y_test = train_test_split(inputData, target, test_size = 0.2,random_state = 5 ,shuffle=True)\n",
    "\n",
    "print(x_train.shape)\n",
    "print(y_train.shape)\n",
    "print(x_test.shape)\n",
    "print(y_test.shape)"
   ]
  },
  {
   "cell_type": "code",
   "execution_count": 7,
   "metadata": {},
   "outputs": [],
   "source": [
    "# Normalizing the features\n",
    "mean = np.mean(x_train, axis=0)\n",
    "x_train -= mean\n",
    "x_test -= mean\n",
    "std = np.std(x_train, axis=0)\n",
    "x_train /= std\n",
    "x_test /= std"
   ]
  },
  {
   "cell_type": "code",
   "execution_count": 8,
   "metadata": {},
   "outputs": [
    {
     "name": "stdout",
     "output_type": "stream",
     "text": [
      "Model: \"sequential\"\n",
      "_________________________________________________________________\n",
      "Layer (type)                 Output Shape              Param #   \n",
      "=================================================================\n",
      "dense (Dense)                (None, 256)               7936      \n",
      "_________________________________________________________________\n",
      "dense_1 (Dense)              (None, 256)               65792     \n",
      "_________________________________________________________________\n",
      "dense_2 (Dense)              (None, 256)               65792     \n",
      "_________________________________________________________________\n",
      "dense_3 (Dense)              (None, 256)               65792     \n",
      "_________________________________________________________________\n",
      "dense_4 (Dense)              (None, 1)                 257       \n",
      "=================================================================\n",
      "Total params: 205,569\n",
      "Trainable params: 205,569\n",
      "Non-trainable params: 0\n",
      "_________________________________________________________________\n"
     ]
    }
   ],
   "source": [
    "model_credit = Sequential()\n",
    "model_credit.add(Dense(256, input_dim=np.size(inputData,1), activation='relu'))\n",
    "model_credit.add(Dense(256, activation='relu'))\n",
    "model_credit.add(Dense(256, activation='relu'))\n",
    "model_credit.add(Dense(256, activation='relu'))\n",
    "model_credit.add(Dense(1, activation='sigmoid'))\n",
    "\n",
    "model_credit.summary()"
   ]
  },
  {
   "cell_type": "code",
   "execution_count": 9,
   "metadata": {},
   "outputs": [],
   "source": [
    "import tensorflow.keras.backend as K\n",
    "\n",
    "def f2(y_true, y_pred):\n",
    "    y_pred = K.round(y_pred)\n",
    "    tp = K.sum(K.cast(y_true*y_pred, 'float'), axis=0)\n",
    "    tn = K.sum(K.cast((1-y_true)*(1-y_pred), 'float'), axis=0)\n",
    "    fp = K.sum(K.cast((1-y_true)*y_pred, 'float'), axis=0)\n",
    "    fn = K.sum(K.cast(y_true*(1-y_pred), 'float'), axis=0)\n",
    "    p = tp / (tp + fp + K.epsilon())\n",
    "    r = tp / (tp + fn + K.epsilon())\n",
    "    f2 = 5*p*r / (4*p+r+K.epsilon())\n",
    "    return K.mean(f2)\n",
    "\n",
    "def f2_loss(y_true, y_pred):\n",
    "    \n",
    "    tp = K.sum(K.cast(y_true*y_pred, 'float'), axis=0)\n",
    "    tn = K.sum(K.cast((1-y_true)*(1-y_pred), 'float'), axis=0)\n",
    "    fp = K.sum(K.cast((1-y_true)*y_pred, 'float'), axis=0)\n",
    "    fn = K.sum(K.cast(y_true*(1-y_pred), 'float'), axis=0)\n",
    "    p = tp / (tp + fp + K.epsilon())\n",
    "    r = tp / (tp + fn + K.epsilon())\n",
    "    f2 = 5*p*r / (4*p+r+K.epsilon())\n",
    "    return 1 - K.mean(f2)\n",
    "\n",
    "metrics = [\n",
    "    tf.keras.metrics.FalseNegatives(name=\"fn\"),\n",
    "    tf.keras.metrics.FalsePositives(name=\"fp\"),\n",
    "    tf.keras.metrics.TrueNegatives(name=\"tn\"),\n",
    "    tf.keras.metrics.TruePositives(name=\"tp\"),\n",
    "    tf.keras.metrics.Precision(name=\"precision\"),\n",
    "    tf.keras.metrics.Recall(name=\"recall\"),\n",
    "]"
   ]
  },
  {
   "cell_type": "code",
   "execution_count": 10,
   "metadata": {},
   "outputs": [
    {
     "name": "stdout",
     "output_type": "stream",
     "text": [
      "Train on 182276 samples, validate on 45569 samples\n",
      "Epoch 1/30\n",
      "182276/182276 - 2s - loss: 0.9898 - accuracy: 0.9708 - f2: 0.1377 - val_loss: 0.9863 - val_accuracy: 0.9595 - val_f2: 0.1659\n",
      "Epoch 2/30\n",
      "182276/182276 - 1s - loss: 0.9865 - accuracy: 0.9786 - f2: 0.2570 - val_loss: 0.9833 - val_accuracy: 0.9943 - val_f2: 0.5442\n",
      "Epoch 3/30\n",
      "182276/182276 - 1s - loss: 0.9836 - accuracy: 0.9979 - f2: 0.6695 - val_loss: 0.9786 - val_accuracy: 0.9993 - val_f2: 0.7984\n",
      "Epoch 4/30\n",
      "182276/182276 - 1s - loss: 0.9785 - accuracy: 0.9993 - f2: 0.7024 - val_loss: 0.9706 - val_accuracy: 0.9994 - val_f2: 0.7793\n",
      "Epoch 5/30\n",
      "182276/182276 - 1s - loss: 0.9649 - accuracy: 0.9993 - f2: 0.7401 - val_loss: 0.9394 - val_accuracy: 0.9993 - val_f2: 0.7529\n",
      "Epoch 6/30\n",
      "182276/182276 - 1s - loss: 0.8842 - accuracy: 0.9993 - f2: 0.6407 - val_loss: 0.7151 - val_accuracy: 0.9993 - val_f2: 0.7215\n",
      "Epoch 7/30\n",
      "182276/182276 - 1s - loss: 0.5179 - accuracy: 0.9993 - f2: 0.7074 - val_loss: 0.3558 - val_accuracy: 0.9993 - val_f2: 0.7215\n",
      "Epoch 8/30\n",
      "182276/182276 - 1s - loss: 0.3721 - accuracy: 0.9993 - f2: 0.6645 - val_loss: 0.2900 - val_accuracy: 0.9993 - val_f2: 0.7458\n",
      "Epoch 9/30\n",
      "182276/182276 - 1s - loss: 0.3076 - accuracy: 0.9993 - f2: 0.7045 - val_loss: 0.2755 - val_accuracy: 0.9993 - val_f2: 0.7458\n",
      "Epoch 10/30\n",
      "182276/182276 - 1s - loss: 0.2880 - accuracy: 0.9993 - f2: 0.7188 - val_loss: 0.2565 - val_accuracy: 0.9993 - val_f2: 0.7518\n",
      "Epoch 11/30\n",
      "182276/182276 - 1s - loss: 0.2775 - accuracy: 0.9993 - f2: 0.7254 - val_loss: 0.2273 - val_accuracy: 0.9994 - val_f2: 0.7866\n",
      "Epoch 12/30\n",
      "182276/182276 - 1s - loss: 0.2675 - accuracy: 0.9994 - f2: 0.7350 - val_loss: 0.2233 - val_accuracy: 0.9994 - val_f2: 0.7866\n",
      "Epoch 13/30\n",
      "182276/182276 - 1s - loss: 0.2299 - accuracy: 0.9994 - f2: 0.7694 - val_loss: 0.2195 - val_accuracy: 0.9994 - val_f2: 0.7990\n",
      "Epoch 14/30\n",
      "182276/182276 - 1s - loss: 0.2472 - accuracy: 0.9994 - f2: 0.7515 - val_loss: 0.2158 - val_accuracy: 0.9994 - val_f2: 0.7990\n",
      "Epoch 15/30\n",
      "182276/182276 - 1s - loss: 0.2679 - accuracy: 0.9994 - f2: 0.7303 - val_loss: 0.2143 - val_accuracy: 0.9994 - val_f2: 0.7990\n",
      "Epoch 16/30\n",
      "182276/182276 - 1s - loss: 0.2681 - accuracy: 0.9994 - f2: 0.7289 - val_loss: 0.2129 - val_accuracy: 0.9994 - val_f2: 0.7990\n",
      "Epoch 17/30\n",
      "182276/182276 - 1s - loss: 0.2500 - accuracy: 0.9994 - f2: 0.7446 - val_loss: 0.2144 - val_accuracy: 0.9994 - val_f2: 0.7990\n",
      "Epoch 18/30\n",
      "182276/182276 - 1s - loss: 0.2614 - accuracy: 0.9994 - f2: 0.7443 - val_loss: 0.2150 - val_accuracy: 0.9994 - val_f2: 0.7990\n",
      "Epoch 19/30\n",
      "182276/182276 - 1s - loss: 0.2722 - accuracy: 0.9994 - f2: 0.7219 - val_loss: 0.2150 - val_accuracy: 0.9994 - val_f2: 0.7866\n",
      "Epoch 20/30\n",
      "182276/182276 - 1s - loss: 0.2574 - accuracy: 0.9994 - f2: 0.7363 - val_loss: 0.2152 - val_accuracy: 0.9994 - val_f2: 0.7866\n",
      "Epoch 21/30\n",
      "182276/182276 - 1s - loss: 0.2568 - accuracy: 0.9994 - f2: 0.7369 - val_loss: 0.2162 - val_accuracy: 0.9994 - val_f2: 0.7866\n",
      "Epoch 22/30\n",
      "182276/182276 - 1s - loss: 0.2515 - accuracy: 0.9994 - f2: 0.7417 - val_loss: 0.2163 - val_accuracy: 0.9994 - val_f2: 0.7887\n",
      "Epoch 23/30\n",
      "182276/182276 - 1s - loss: 0.2705 - accuracy: 0.9994 - f2: 0.7228 - val_loss: 0.2157 - val_accuracy: 0.9994 - val_f2: 0.7887\n",
      "Epoch 24/30\n",
      "182276/182276 - 1s - loss: 0.2425 - accuracy: 0.9994 - f2: 0.7504 - val_loss: 0.2157 - val_accuracy: 0.9994 - val_f2: 0.7887\n",
      "Epoch 25/30\n",
      "182276/182276 - 1s - loss: 0.2298 - accuracy: 0.9994 - f2: 0.7628 - val_loss: 0.2155 - val_accuracy: 0.9994 - val_f2: 0.7887\n",
      "Epoch 26/30\n",
      "182276/182276 - 1s - loss: 0.2641 - accuracy: 0.9994 - f2: 0.7282 - val_loss: 0.2179 - val_accuracy: 0.9994 - val_f2: 0.7887\n",
      "Epoch 27/30\n",
      "182276/182276 - 1s - loss: 0.2391 - accuracy: 0.9994 - f2: 0.7533 - val_loss: 0.2167 - val_accuracy: 0.9994 - val_f2: 0.7887\n",
      "Epoch 28/30\n",
      "182276/182276 - 1s - loss: 0.2587 - accuracy: 0.9994 - f2: 0.7334 - val_loss: 0.2177 - val_accuracy: 0.9994 - val_f2: 0.7887\n",
      "Epoch 29/30\n",
      "182276/182276 - 1s - loss: 0.2608 - accuracy: 0.9994 - f2: 0.7316 - val_loss: 0.2197 - val_accuracy: 0.9994 - val_f2: 0.7887\n",
      "Epoch 30/30\n",
      "182276/182276 - 1s - loss: 0.2717 - accuracy: 0.9994 - f2: 0.7202 - val_loss: 0.2222 - val_accuracy: 0.9994 - val_f2: 0.7887\n"
     ]
    }
   ],
   "source": [
    "model_credit.compile(optimizer=Adam(1e-5), loss=f2_loss, metrics=['accuracy',f2])\n",
    "#model_credit.compile(optimizer=Adam(1e-2), loss=\"binary_crossentropy\", metrics=metrics)\n",
    "\n",
    "#callbacks = [keras.callbacks.ModelCheckpoint(\"fraud_model_at_epoch_{epoch}.h5\")]\n",
    "class_weight = {0: weight_0, 1: weight_1}\n",
    "\n",
    "#class_weight: Optional dictionary mapping class indices (integers) to a weight (float) value, \n",
    "#used for weighting the loss function (during training only). \n",
    "#This can be useful to tell the model to \n",
    "#\"pay more attention\" to samples from an under-represented class.\n",
    "\n",
    "#f2 score and class weight can not be used simultaneously\n",
    "history=model_credit.fit(x_train, y_train,batch_size=2048,epochs=30, verbose=2,validation_split=0.2,\n",
    "    #callbacks=callbacks,\n",
    "    #class_weight=class_weight,\n",
    "                        )"
   ]
  },
  {
   "cell_type": "code",
   "execution_count": 11,
   "metadata": {},
   "outputs": [
    {
     "data": {
      "image/png": "[encoded data removed]",
      "text/plain": [
       "<Figure size 432x288 with 1 Axes>"
      ]
     },
     "metadata": {
      "needs_background": "light"
     },
     "output_type": "display_data"
    }
   ],
   "source": [
    "#print(history.history.keys())\n",
    "import matplotlib.pyplot as plt\n",
    "\n",
    "plt.plot(history.history['loss'])\n",
    "plt.title('Model Training Loss')\n",
    "plt.ylabel('loss')\n",
    "plt.xlabel('epoch')\n",
    "plt.legend(['loss'], loc='upper right')          \n",
    "plt.show()"
   ]
  },
  {
   "cell_type": "code",
   "execution_count": 13,
   "metadata": {},
   "outputs": [
    {
     "name": "stdout",
     "output_type": "stream",
     "text": [
      "(56962, 1)\n",
      "[[56845    13]\n",
      " [   22    82]]\n"
     ]
    }
   ],
   "source": [
    "# prediction \n",
    "y_pred=model_credit.predict(x_test)\n",
    "print(y_pred.shape)\n",
    "\n",
    "#any transaction more than 40% probability of fraud will be counted as fraudulant transaction\n",
    "y_pred[y_pred >= 0.4] = 1\n",
    "y_pred[y_pred < 0.4] = 0\n",
    "\n",
    "from sklearn.metrics import confusion_matrix\n",
    "print(confusion_matrix(y_test, y_pred))"
   ]
  },
  {
   "cell_type": "code",
   "execution_count": null,
   "metadata": {},
   "outputs": [],
   "source": []
  }
 ],
 "metadata": {
  "kernelspec": {
   "display_name": "Python 3",
   "language": "python",
   "name": "python3"
  },
  "language_info": {
   "codemirror_mode": {
    "name": "ipython",
    "version": 3
   },
   "file_extension": ".py",
   "mimetype": "text/x-python",
   "name": "python",
   "nbconvert_exporter": "python",
   "pygments_lexer": "ipython3",
   "version": "3.7.7"
  }
 },
 "nbformat": 4,
 "nbformat_minor": 4
}
